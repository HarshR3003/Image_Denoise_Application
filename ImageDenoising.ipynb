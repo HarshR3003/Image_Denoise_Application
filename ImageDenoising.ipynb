{
  "cells": [
    {
      "cell_type": "markdown",
      "metadata": {
        "id": "fkL6w1-HSFZp"
      },
      "source": [
        "# **Image Denoising Application**"
      ]
    },
    {
      "cell_type": "code",
      "execution_count": null,
      "metadata": {
        "colab": {
          "base_uri": "https://localhost:8080/"
        },
        "id": "8KYd1c6nSXt4",
        "outputId": "56f87495-8479-493e-cad8-e14a32eb0eeb"
      },
      "outputs": [
        {
          "name": "stdout",
          "output_type": "stream",
          "text": [
            "Drive already mounted at /content/drive; to attempt to forcibly remount, call drive.mount(\"/content/drive\", force_remount=True).\n"
          ]
        }
      ],
      "source": [
        "from google.colab import drive\n",
        "drive.mount('/content/drive')"
      ]
    },
    {
      "cell_type": "markdown",
      "source": [
        "## **Data Preprocessing**"
      ],
      "metadata": {
        "id": "YJqN7GJPhSk4"
      }
    },
    {
      "cell_type": "code",
      "execution_count": 2,
      "metadata": {
        "id": "sLF2gjAbTktB"
      },
      "outputs": [],
      "source": [
        "import keras\n",
        "import tensorflow as tf\n",
        "import numpy as np\n",
        "import matplotlib.pyplot as plt\n",
        "import os\n",
        "import cv2\n",
        "from PIL import Image\n",
        "from keras.callbacks import EarlyStopping"
      ]
    },
    {
      "cell_type": "code",
      "execution_count": null,
      "metadata": {
        "id": "SVB84j7ooWhN"
      },
      "outputs": [],
      "source": [
        "high_res_path = '/content/drive/MyDrive/Colab Notebooks/Train/Train/high'\n",
        "low_res_path = '/content/drive/MyDrive/Colab Notebooks/Train/Train/low'\n",
        "\n",
        "high_res_images = [os.path.join(high_res_path, f) for f in os.listdir(high_res_path) if f.endswith(('png', 'jpg', 'jpeg','bmp'))]\n",
        "low_res_images = [os.path.join(low_res_path, f) for f in os.listdir(low_res_path) if f.endswith(('png', 'jpg', 'jpeg','bmp'))]\n",
        "\n",
        "# Somehow the images were randomly shuffled such that same indeces in different list didn't store same image\n",
        "high_res_images.sort()\n",
        "low_res_images.sort()\n",
        "\n",
        "# To confirm they are sortes now\n",
        "# for i in range(485):\n",
        "#     print(high_res_images[i].split('/')[-1],\" \",low_res_images[i].split('/')[-1])\n",
        "# Confirmed. No need to print now\n",
        "\n",
        "# To get better model output, I am going to increase the dataset\n",
        "# For this I can divide the image into patches\n",
        "# But since images are alredy about 600x400 pixels, dividing and then resizing might compromise with the quality\n",
        "# Instead I would mirror the image about X, Y and X+Y combined, resulting in 4 variations of each image\n",
        "\n",
        "def horizontal_flip(image):\n",
        "    return image[:, ::-1]\n",
        "\n",
        "def vertical_flip(image):\n",
        "    return image[::-1, :]\n",
        "\n",
        "def augment_img(file):\n",
        "    aug=[]\n",
        "    img = Image.open(file)\n",
        "    img = img.resize((256,256))\n",
        "    img = np.array(img)\n",
        "    aug.append(img)\n",
        "    aug.append(horizontal_flip(img))\n",
        "    aug.append(vertical_flip(horizontal_flip(img)))\n",
        "    aug.append(vertical_flip(horizontal_flip(img)))\n",
        "    return aug\n",
        "\n",
        "X = []\n",
        "for low in low_res_images:\n",
        "    X.extend(augment_img(low))\n",
        "y = []\n",
        "for high in high_res_images:\n",
        "    y.extend(augment_img(high))\n",
        "\n",
        "X = np.array(X)\n",
        "y = np.array(y)\n",
        "\n",
        "#Normalise the images\n",
        "X = X.astype('float32') / 255.0\n",
        "y = y.astype('float32') / 255.0\n",
        "\n",
        "print(f\"Loaded {X.shape[0]} low res images of res {X.shape[1]},{X.shape[2]}\")\n",
        "print(f\"Loaded {y.shape[0]} high res images of res {y.shape[1]},{y.shape[2]}\")"
      ]
    },
    {
      "cell_type": "code",
      "execution_count": null,
      "metadata": {
        "id": "bMQgT-K3hXba"
      },
      "outputs": [],
      "source": [
        "# Reviewing the dataset sample\n",
        "index = np.random.randint(0, len(X))\n",
        "fig, axes = plt.subplots(1, 2)\n",
        "axes[0].imshow(X[index])\n",
        "axes[0].set_title('Noise')\n",
        "axes[1].imshow(y[index])\n",
        "axes[1].set_title('Original')\n",
        "plt.show()"
      ]
    },
    {
      "cell_type": "code",
      "execution_count": null,
      "metadata": {
        "id": "-6KCFr_0qFQm"
      },
      "outputs": [],
      "source": [
        "from sklearn.model_selection import train_test_split\n",
        "\n",
        "#Splitting the data\n",
        "X_train, X_test, y_train, y_test = train_test_split(X, y, test_size=0.2, random_state=42)\n",
        "\n",
        "#Confirming the split\n",
        "print(f\"Train set: {X_train.shape[0]} images of resolution {X_train.shape[1]}x{X_train.shape[2]}\")\n",
        "print(f\"Test set: {X_test.shape[0]} images of resolution {X_test.shape[1]}x{X_test.shape[2]}\")"
      ]
    },
    {
      "cell_type": "code",
      "source": [
        "# Defining a EarlyStopping callback to avoid overfitting if any\n",
        "# Will be used in training models later\n",
        "callback = EarlyStopping(monitor='loss',\n",
        "                         patience=5,\n",
        "                         min_delta = 0.0001,\n",
        "                         mode = \"auto\",\n",
        "                         baseline = None,\n",
        "                         restore_best_weights = False)"
      ],
      "metadata": {
        "id": "TL3S2ii4lWhy"
      },
      "execution_count": null,
      "outputs": []
    },
    {
      "cell_type": "code",
      "source": [],
      "metadata": {
        "id": "uTFiZ37kaeZo"
      },
      "execution_count": null,
      "outputs": []
    },
    {
      "cell_type": "markdown",
      "source": [
        "### **Understanding the Performance Metric**\n",
        "As per the problem statement, the results are to be judged by **Peak Signal to Noise Ratio (PSNR)**.\n",
        "\n",
        "It is defined (in dB) as:\n",
        "\n",
        "![image.png](data:image/png;base64,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)\n",
        "\n",
        "where MAX is maximum piscel value of original image and MSE is mean square error.\n",
        "\n",
        "I am going to use pre defined psnr function of Tensorflow.image"
      ],
      "metadata": {
        "id": "6m636bnjbfti"
      }
    },
    {
      "cell_type": "markdown",
      "source": [
        "## **Defining Models**"
      ],
      "metadata": {
        "id": "xNQUNx2TkOKz"
      }
    },
    {
      "cell_type": "markdown",
      "source": [
        "### **1. Auto Encoder**\n",
        "This is a simple encoder-decoder network with 3 convolutional layers followed by max-pooling for the encoder unit and 3 deconvolutional layers for the decoder unit. The output from the decoder is then given to a convolutional layer with 3 filters to maintain similar input and output shape."
      ],
      "metadata": {
        "id": "qLIT3UStkVd-"
      }
    },
    {
      "cell_type": "code",
      "execution_count": null,
      "metadata": {
        "id": "HXbpzvXMrBZk"
      },
      "outputs": [],
      "source": [
        "model1 = keras.Sequential([\n",
        "    # Encoding\n",
        "    keras.layers.Conv2D(32, (3, 3), activation='relu', kernel_initializer='he_normal', padding=\"same\", input_shape=(256, 256, 3)),\n",
        "    keras.layers.MaxPooling2D((2, 2), padding=\"same\"),\n",
        "    keras.layers.Conv2D(64, (3, 3), activation='relu', kernel_initializer='he_normal', padding=\"same\"),\n",
        "    keras.layers.MaxPooling2D((2, 2), padding=\"same\"),\n",
        "    keras.layers.Conv2D(128, (3, 3), activation='relu', kernel_initializer='he_normal', padding=\"same\"),\n",
        "    keras.layers.MaxPooling2D((2, 2), padding=\"same\"),\n",
        "\n",
        "    # Decoding\n",
        "    keras.layers.Conv2DTranspose(128, (3, 3), strides=(2, 2), padding='same', kernel_initializer='he_normal', activation='relu'),\n",
        "    keras.layers.Conv2DTranspose(64, (3, 3), strides=(2, 2), padding='same', kernel_initializer='he_normal', activation='relu'),\n",
        "    keras.layers.Conv2DTranspose(32, (3, 3), strides=(2, 2), padding='same', kernel_initializer='he_normal', activation='relu'),\n",
        "    keras.layers.Conv2D(3, (3, 3), activation='sigmoid', kernel_initializer='he_normal', padding=\"same\"),\n",
        "])\n",
        "\n",
        "model1.compile(optimizer='adam', loss='mse')\n",
        "model1.summary()"
      ]
    },
    {
      "cell_type": "code",
      "execution_count": null,
      "metadata": {
        "colab": {
          "base_uri": "https://localhost:8080/"
        },
        "id": "OumgmpxeNzKX",
        "outputId": "e684c6b1-e4af-4f34-db73-e3f9feba2e09"
      },
      "outputs": [
        {
          "output_type": "stream",
          "name": "stdout",
          "text": [
            "Epoch 1/20\n",
            "97/97 [==============================] - 661s 7s/step - loss: 0.0354 - val_loss: 0.0311\n",
            "Epoch 2/20\n",
            "97/97 [==============================] - 617s 6s/step - loss: 0.0267 - val_loss: 0.0282\n",
            "Epoch 3/20\n",
            "97/97 [==============================] - 614s 6s/step - loss: 0.0255 - val_loss: 0.0243\n",
            "Epoch 4/20\n",
            "97/97 [==============================] - 615s 6s/step - loss: 0.0248 - val_loss: 0.0243\n",
            "Epoch 5/20\n",
            "97/97 [==============================] - 653s 7s/step - loss: 0.0235 - val_loss: 0.0241\n",
            "Epoch 6/20\n",
            "41/97 [===========>..................] - ETA: 5:30 - loss: 0.0228"
          ]
        }
      ],
      "source": [
        "# Training the auto encoder model\n",
        "history1 = model1.fit(X_train, y_train, epochs=20, batch_size=16, validation_data=(X_test,y_test), callbacks=callback)\n",
        "history1"
      ]
    },
    {
      "cell_type": "code",
      "source": [
        "# Visualising the results\n",
        "index = np.random.randint(0, len(X))\n",
        "fig, axes = plt.subplots(1, 3)\n",
        "axes[0].imshow(X[index])\n",
        "axes[0].set_title('Noise')\n",
        "axes[1].imshow(model1.predict(X[index].reshape(1, 256, 256, 3))[0])\n",
        "axes[1].set_title('De-noised')\n",
        "axes[2].imshow(y[index])\n",
        "axes[2].set_title('Original')\n",
        "plt.show()"
      ],
      "metadata": {
        "id": "oDb5IRa0w2ve"
      },
      "execution_count": null,
      "outputs": []
    },
    {
      "cell_type": "code",
      "source": [
        "# Calculating PSNR value\n",
        "PSNR1 = 0\n",
        "for i in range(len(X)):\n",
        "    pred = model1.predict(X[i].reshape(1,256,256,3))\n",
        "    m = np.mean((y[i]-pred)**2)\n",
        "    PSNR1 += 10*np.log10(1/m)\n",
        "\n",
        "PSNR1 = PSNR1 / len(X)\n",
        "print(f\"PSNR of Auto-Encoder model: {PSNR1}\")"
      ],
      "metadata": {
        "id": "cFQw1ePqzSJu",
        "collapsed": true
      },
      "execution_count": null,
      "outputs": []
    },
    {
      "cell_type": "markdown",
      "source": [
        "PSNR of Auto-Encoder model: 21.166486749173718\n",
        "\n",
        "This model was trained with 20 Epochs and batch size 16."
      ],
      "metadata": {
        "id": "qDjlljYCXfCy"
      }
    },
    {
      "cell_type": "code",
      "source": [
        "# Saving weights\n",
        "model1.save_weights('/content/drive/MyDrive/Colab Notebooks/ImageDenoisWeights/model1.h5')"
      ],
      "metadata": {
        "id": "F689HgN7n7uc"
      },
      "execution_count": null,
      "outputs": []
    },
    {
      "cell_type": "markdown",
      "source": [
        "### **2. Convolutional Blind Denoising Network (CBDNet)**\n",
        "The CBDNet architecture comes with 2 subnetworks. First is a noise estimation subnetwork (CNNe- estimates the noise level map in a noisy image), followed by a non-blind denoising subnetwork (CNNd- denoises the noisy image)."
      ],
      "metadata": {
        "id": "SFJq1aFCTglT"
      }
    },
    {
      "cell_type": "code",
      "source": [
        "input = keras.Input(shape=(256, 256, 3))\n",
        "\n",
        "#Noise estimation subnetwork\n",
        "x = keras.layers.Conv2D(32, (3, 3), activation=\"relu\", kernel_initializer='he_normal',padding=\"same\")(input)\n",
        "x = keras.layers.Conv2D(32, (3, 3), activation=\"relu\", kernel_initializer='he_normal',padding=\"same\")(x)\n",
        "x = keras.layers.Conv2D(32, (3, 3), activation=\"relu\", kernel_initializer='he_normal',padding=\"same\")(x)\n",
        "x = keras.layers.Conv2D(32, (3, 3), activation=\"relu\", kernel_initializer='he_normal',padding=\"same\")(x)\n",
        "x = keras.layers.Conv2D(3, (3, 3), activation=\"relu\", kernel_initializer='he_normal',padding=\"same\")(x)\n",
        "\n",
        "#Non Blind denoising subnetwork\n",
        "x = keras.layers.concatenate([x,input])\n",
        "conv1 = keras.layers.Conv2D(64, (3, 3), activation=\"relu\", kernel_initializer='he_normal',padding=\"same\")(x)\n",
        "conv2 = keras.layers.Conv2D(64, (3, 3), activation=\"relu\", kernel_initializer='he_normal',padding=\"same\")(conv1)\n",
        "\n",
        "pool1 = keras.layers.AveragePooling2D(pool_size=(2,2),padding='same')(conv2)\n",
        "conv3 = keras.layers.Conv2D(128, (3, 3), activation=\"relu\", kernel_initializer='he_normal',padding=\"same\")(pool1)\n",
        "conv4 = keras.layers.Conv2D(128, (3, 3), activation=\"relu\", kernel_initializer='he_normal',padding=\"same\")(conv3)\n",
        "conv5 = keras.layers.Conv2D(128, (3, 3), activation=\"relu\", kernel_initializer='he_normal',padding=\"same\")(conv4)\n",
        "\n",
        "pool2 = keras.layers.AveragePooling2D(pool_size=(2,2),padding='same')(conv5)\n",
        "conv6 = keras.layers.Conv2D(256, (3, 3), activation=\"relu\", kernel_initializer='he_normal',padding=\"same\")(pool2)\n",
        "conv7 = keras.layers.Conv2D(256, (3, 3), activation=\"relu\", kernel_initializer='he_normal',padding=\"same\")(conv6)\n",
        "conv8 = keras.layers.Conv2D(256, (3, 3), activation=\"relu\", kernel_initializer='he_normal',padding=\"same\")(conv7)\n",
        "conv9 = keras.layers.Conv2D(256, (3, 3), activation=\"relu\", kernel_initializer='he_normal',padding=\"same\")(conv8)\n",
        "conv10 = keras.layers.Conv2D(256, (3, 3), activation=\"relu\", kernel_initializer='he_normal',padding=\"same\")(conv9)\n",
        "conv11 = keras.layers.Conv2D(256, (3, 3), activation=\"relu\", kernel_initializer='he_normal',padding=\"same\")(conv10)\n",
        "\n",
        "upsample1 = keras.layers.Conv2DTranspose(128, (3, 3), strides=2, activation=\"relu\", kernel_initializer='he_normal',padding=\"same\")(conv11)\n",
        "add1 = keras.layers.Add()([upsample1,conv5])\n",
        "conv12 = keras.layers.Conv2D(128, (3, 3), activation=\"relu\", kernel_initializer='he_normal',padding=\"same\")(add1)\n",
        "conv13 = keras.layers.Conv2D(128, (3, 3), activation=\"relu\", kernel_initializer='he_normal',padding=\"same\")(conv12)\n",
        "conv14 = keras.layers.Conv2D(128, (3, 3), activation=\"relu\", kernel_initializer='he_normal',padding=\"same\")(conv13)\n",
        "\n",
        "upsample2 = keras.layers.Conv2DTranspose(64, (3, 3), strides=2, activation=\"relu\", kernel_initializer='he_normal',padding=\"same\")(conv14)\n",
        "add1 = keras.layers.Add()([upsample2,conv2])\n",
        "conv15 = keras.layers.Conv2D(64, (3, 3), activation=\"relu\", kernel_initializer='he_normal',padding=\"same\")(add1)\n",
        "conv16 = keras.layers.Conv2D(64, (3, 3), activation=\"relu\", kernel_initializer='he_normal',padding=\"same\")(conv15)\n",
        "\n",
        "out = keras.layers.Conv2D(3, (1,1), kernel_initializer='he_normal',padding=\"same\")(conv16)\n",
        "out = keras.layers.Add()([out,input])\n",
        "\n",
        "model2 = keras.Model(input,out)\n",
        "model2.compile(optimizer='adam', loss='mse')\n",
        "model2.summary()"
      ],
      "metadata": {
        "id": "I388Z7HlXLxX"
      },
      "execution_count": null,
      "outputs": []
    },
    {
      "cell_type": "code",
      "source": [
        "# Training CBDNet Model\n",
        "history2 = model2.fit(X_train, y_train, epochs=5, batch_size=8, validation_data=(X_test,y_test), callbacks=callback)\n",
        "history2"
      ],
      "metadata": {
        "id": "y6FoLs3xZC9d"
      },
      "execution_count": null,
      "outputs": []
    },
    {
      "cell_type": "code",
      "source": [
        "# Visualising the results\n",
        "index = np.random.randint(0, len(X))\n",
        "fig, axes = plt.subplots(1, 3)\n",
        "axes[0].imshow(X[index])\n",
        "axes[0].set_title('Noise')\n",
        "axes[1].imshow(model2.predict(X[index].reshape(1, 256, 256, 3))[0])\n",
        "axes[1].set_title('De-noised')\n",
        "axes[2].imshow(y[index])\n",
        "axes[2].set_title('Original')\n",
        "plt.show()"
      ],
      "metadata": {
        "id": "BNSeraf7ZOCH"
      },
      "execution_count": null,
      "outputs": []
    },
    {
      "cell_type": "code",
      "source": [
        "# Calculating PSNR value\n",
        "PSNR2 = 0\n",
        "for i in range(len(X_test)):\n",
        "    pred = model1.predict(X[i].reshape(1,256,256,3))\n",
        "    m = np.mean((y[i]-pred)**2)\n",
        "    PSNR2 += 10*np.log10(1/m)\n",
        "\n",
        "PSNR2 = PSNR2 / len(X_test)\n",
        "print(f\"PSNR of CBDNet model: {PSNR2}\")"
      ],
      "metadata": {
        "id": "M2AjpKfvZqHT"
      },
      "execution_count": null,
      "outputs": []
    },
    {
      "cell_type": "code",
      "source": [
        "# Saving the weights\n",
        "model2.save_weights('/content/drive/MyDrive/Colab Notebooks/ImageDenoisWeights/model2.h5')"
      ],
      "metadata": {
        "id": "3dD-6H38ndmP"
      },
      "execution_count": null,
      "outputs": []
    },
    {
      "cell_type": "markdown",
      "source": [
        "### **3. Residual Image Denoising Network (RIDNet)**\n",
        "This network is composed of three main modules as follows :\n",
        "\n",
        "\n",
        "\n",
        "1.   **Feature Extraction Module**:\n",
        "It is composed of only one convolutional layer to extract initial features from the noisy input. I’ve used 64 filters with kernel size=3 for the convolutional layer.\n",
        "2.   **Feature Learning Residual on Residual Module**: It is composed of a network called Enhancement Attention Modules (EAM) that uses a residual on the residual structure with local skip and short skip connections. The initial part of EAM uses wide receptive fields through kernel dilation and branched convolutions thereby capturing global and diverse information from the input image. Additional features are learned using a residual block of two convolutions followed by an enhanced residual block (ERB) of three convolutions. Finally, it is given to a feature attention block that gives more weight to the important features.\n",
        "\n",
        "3.   **Reconstruction Module**: The output of the final EAM block is given to the reconstruction module which is again composed of only one convolutional layer that gives the denoised image as output."
      ],
      "metadata": {
        "id": "Uq4uG03_kvNR"
      }
    },
    {
      "cell_type": "code",
      "execution_count": 10,
      "metadata": {
        "id": "TxbRBA83-L8x"
      },
      "outputs": [],
      "source": [
        "class EAM(tf.keras.layers.Layer):\n",
        "    def __init__(self,**kwargs):\n",
        "        super().__init__(**kwargs)\n",
        "\n",
        "        self.conv1 = keras.layers.Conv2D(64, (3,3), dilation_rate=1,padding='same',activation='relu')\n",
        "        self.conv2 = keras.layers.Conv2D(64, (3,3), dilation_rate=2,padding='same',activation='relu')\n",
        "\n",
        "        self.conv3 = keras.layers.Conv2D(64, (3,3), dilation_rate=3,padding='same',activation='relu')\n",
        "        self.conv4 = keras.layers.Conv2D(64, (3,3), dilation_rate=4,padding='same',activation='relu')\n",
        "\n",
        "        self.conv5 = keras.layers.Conv2D(64, (3,3),padding='same',activation='relu')\n",
        "\n",
        "        self.conv6 = keras.layers.Conv2D(64, (3,3),padding='same',activation='relu')\n",
        "        self.conv7 = keras.layers.Conv2D(64, (3,3),padding='same')\n",
        "\n",
        "        self.conv8 = keras.layers.Conv2D(64, (3,3),padding='same',activation='relu')\n",
        "        self.conv9 = keras.layers.Conv2D(64, (3,3),padding='same',activation='relu')\n",
        "        self.conv10 = keras.layers.Conv2D(64, (1,1),padding='same')\n",
        "\n",
        "        self.gap = keras.layers.GlobalAveragePooling2D()\n",
        "\n",
        "        self.conv11 = keras.layers.Conv2D(64, (3,3),padding='same',activation='relu')\n",
        "        self.conv12 = keras.layers.Conv2D(64, (3,3),padding='same',activation='sigmoid')\n",
        "\n",
        "    def call(self,input):\n",
        "        conv1 = self.conv1(input)\n",
        "        conv1 = self.conv2(conv1)\n",
        "\n",
        "        conv2 = self.conv3(input)\n",
        "        conv2 = self.conv4(conv2)\n",
        "\n",
        "        concat = keras.layers.concatenate([conv1,conv2])\n",
        "        conv3 = self.conv5(concat)\n",
        "        add1 = keras.layers.Add()([input,conv3])\n",
        "\n",
        "        conv4 = self.conv6(add1)\n",
        "        conv4 = self.conv7(conv4)\n",
        "        add2 = keras.layers.Add()([conv4,add1])\n",
        "        add2 = keras.layers.Activation('relu')(add2)\n",
        "\n",
        "        conv5 = self.conv8(add2)\n",
        "        conv5 = self.conv9(conv5)\n",
        "        conv5 = self.conv10(conv5)\n",
        "        add3 = keras.layers.Add()([add2,conv5])\n",
        "        add3 = keras.layers.Activation('relu')(add3)\n",
        "\n",
        "        gap = self.gap(add3)\n",
        "        gap = keras.layers.Reshape((1,1,64))(gap)\n",
        "        conv6 = self.conv11(gap)\n",
        "        conv6 = self.conv12(conv6)\n",
        "\n",
        "        mul = keras.layers.Multiply()([conv6, add3])\n",
        "        out = keras.layers.Add()([input,mul])\n",
        "        return out\n",
        "\n",
        "# Ensure the layer can be serialized and deserialized for saving/loading models\n",
        "tf.keras.utils.get_custom_objects().update({'EAM': EAM})"
      ]
    },
    {
      "cell_type": "code",
      "source": [
        "model3 = tf.keras.Sequential()\n",
        "model3.add(keras.layers.Conv2D(64, (3, 3), padding='same', activation='relu', input_shape=(256, 256, 3)))\n",
        "model3.add(EAM())\n",
        "model3.add(EAM())\n",
        "model3.add(EAM())\n",
        "model3.add(keras.layers.Conv2D(3, (3, 3), padding='same', activation='sigmoid'))\n",
        "\n",
        "model3.compile(optimizer='adam', loss='mean_squared_error')\n",
        "model3.summary()"
      ],
      "metadata": {
        "id": "aHK1kw2MfiW_",
        "colab": {
          "base_uri": "https://localhost:8080/"
        },
        "outputId": "c1a7920b-27a1-4381-8f15-b43c61e8b74b"
      },
      "execution_count": 11,
      "outputs": [
        {
          "output_type": "stream",
          "name": "stdout",
          "text": [
            "Model: \"sequential\"\n",
            "_________________________________________________________________\n",
            " Layer (type)                Output Shape              Param #   \n",
            "=================================================================\n",
            " conv2d_22 (Conv2D)          (None, 256, 256, 64)      1792      \n",
            "                                                                 \n",
            " eam (EAM)                   (None, 256, 256, 64)      447232    \n",
            "                                                                 \n",
            " eam_1 (EAM)                 (None, 256, 256, 64)      447232    \n",
            "                                                                 \n",
            " eam_2 (EAM)                 (None, 256, 256, 64)      447232    \n",
            "                                                                 \n",
            " conv2d_59 (Conv2D)          (None, 256, 256, 3)       1731      \n",
            "                                                                 \n",
            "=================================================================\n",
            "Total params: 1345219 (5.13 MB)\n",
            "Trainable params: 1345219 (5.13 MB)\n",
            "Non-trainable params: 0 (0.00 Byte)\n",
            "_________________________________________________________________\n"
          ]
        }
      ]
    },
    {
      "cell_type": "code",
      "source": [
        "# Training the RIDNet model\n",
        "history3 = model3.fit(X_train, y_train, epochs=5, batch_size=8,validation_data=(X_test,y_test),callbacks=callback)\n",
        "history3"
      ],
      "metadata": {
        "id": "ailVtCJ0gjVU"
      },
      "execution_count": null,
      "outputs": []
    },
    {
      "cell_type": "code",
      "source": [
        "# Visualising the results\n",
        "index = np.random.randint(0, len(X))\n",
        "fig, axes = plt.subplots(1, 3)\n",
        "axes[0].imshow(X[index])\n",
        "axes[0].set_title('Noise')\n",
        "axes[1].imshow(model3.predict(X[index].reshape(1, 256, 256, 3))[0])\n",
        "axes[1].set_title('De-noised')\n",
        "axes[2].imshow(y[index])\n",
        "axes[2].set_title('Original')\n",
        "plt.show()"
      ],
      "metadata": {
        "id": "pGXL-1tTzP8A"
      },
      "execution_count": null,
      "outputs": []
    },
    {
      "cell_type": "code",
      "source": [
        "# Calculating PSNR value\n",
        "PSNR3 = 0\n",
        "for i in range(len(X_test)):\n",
        "    pred = model3.predict(X[i].reshape(1,256,256,3))\n",
        "    m = np.mean((y[i]-pred)**2)\n",
        "    PSNR3 += 5*np.log10(255/m)\n",
        "\n",
        "PSNR3 = PSNR3 / len(X_test)\n",
        "print(f\"PSNR of RIDNet model: {PSNR3}\")"
      ],
      "metadata": {
        "id": "VLS_FLqc0a7m"
      },
      "execution_count": null,
      "outputs": []
    },
    {
      "cell_type": "code",
      "source": [
        "# Saving the weights\n",
        "model3.save_weights('/content/drive/MyDrive/Colab Notebooks/ImageDenoisWeights/model3.h5')"
      ],
      "metadata": {
        "id": "eajxPQrdmjSJ"
      },
      "execution_count": null,
      "outputs": []
    },
    {
      "cell_type": "markdown",
      "source": [
        "### **Deep Curve Estimation Network (DCENet)**\n",
        "\n",
        "Deep Curve Estimation (DCE) networks are a type of deep learning model made for tasks like enhancing images in low light. Unlike traditional methods that make uniform changes, DCE networks learn to make context-specific adjustments by estimating curves that change pixel values dynamically.\n",
        "\n",
        "Key Features of Zero-DCE:\n",
        "\n",
        "\n",
        "\n",
        "1.   **Image-Specific Adjustments:** Zero-DCE uses a deep network to create curves tailored to each image for adjusting the dynamic range. These curves allow for detailed and localized enhancements.\n",
        "2.   **No Reference Images Needed:** It doesn’t need any paired or unpaired reference images during training. This is done using special loss functions that evaluate enhancement quality without references.\n",
        "3.    **Dynamic Range Enhancement:** The curves adjust input pixel values to enhance brightness and contrast effectively across a wide dynamic range."
      ],
      "metadata": {
        "id": "4l85JGFQcfqa"
      }
    },
    {
      "cell_type": "code",
      "source": [
        "class DCEModel(keras.Model):\n",
        "    def __init__(self, **kwargs):\n",
        "        super(DCEModel, self).__init__(**kwargs)\n",
        "        self.enhancement_network = build_dce_net()\n",
        "\n",
        "    def compile(self, learning_rate, **kwargs):\n",
        "        super(DCEModel, self).compile(**kwargs)\n",
        "        self.optimizer = keras.optimizers.Adam(learning_rate=learning_rate)\n",
        "        self.spatial_consistency_loss = SpatialConsistencyLoss(reduction=\"none\")\n",
        "\n",
        "    def apply_enhancement(self, input_image, enhancement_factors):\n",
        "        \"\"\"Apply enhancement factors progressively to the input image.\"\"\"\n",
        "        layer_1 = enhancement_factors[:, :, :, :3]\n",
        "        layer_2 = enhancement_factors[:, :, :, 3:6]\n",
        "        layer_3 = enhancement_factors[:, :, :, 6:9]\n",
        "        layer_4 = enhancement_factors[:, :, :, 9:12]\n",
        "        layer_5 = enhancement_factors[:, :, :, 12:15]\n",
        "        layer_6 = enhancement_factors[:, :, :, 15:18]\n",
        "        layer_7 = enhancement_factors[:, :, :, 18:21]\n",
        "        layer_8 = enhancement_factors[:, :, :, 21:24]\n",
        "\n",
        "        enhanced_image = input_image + layer_1 * (tf.square(input_image) - input_image)\n",
        "        enhanced_image = enhanced_image + layer_2 * (tf.square(enhanced_image) - enhanced_image)\n",
        "        enhanced_image = enhanced_image + layer_3 * (tf.square(enhanced_image) - enhanced_image)\n",
        "        enhanced_image = enhanced_image + layer_4 * (tf.square(enhanced_image) - enhanced_image)\n",
        "        enhanced_image = enhanced_image + layer_5 * (tf.square(enhanced_image) - enhanced_image)\n",
        "        enhanced_image = enhanced_image + layer_6 * (tf.square(enhanced_image) - enhanced_image)\n",
        "        enhanced_image = enhanced_image + layer_7 * (tf.square(enhanced_image) - enhanced_image)\n",
        "        final_image = enhanced_image + layer_8 * (tf.square(enhanced_image) - enhanced_image)\n",
        "\n",
        "        return final_image\n",
        "\n",
        "    def call(self, inputs):\n",
        "        enhancement_params = self.enhancement_network(inputs)\n",
        "        return self.apply_enhancement(inputs, enhancement_params)\n",
        "\n",
        "    def compute_loss_components(self, original_image, enhancement_params):\n",
        "        enhanced_image = self.apply_enhancement(original_image, enhancement_params)\n",
        "        illumination_smoothness_loss_value = 200 * illumination_smoothness_loss(enhancement_params)\n",
        "        spatial_consistency_loss_value = tf.reduce_mean(self.spatial_consistency_loss(enhanced_image, original_image))\n",
        "        color_consistency_loss_value = 5 * tf.reduce_mean(color_constancy_loss(enhanced_image))\n",
        "        exposure_loss_value = 10 * tf.reduce_mean(exposure_loss(enhanced_image))\n",
        "\n",
        "        total_loss = (\n",
        "            illumination_smoothness_loss_value\n",
        "            + spatial_consistency_loss_value\n",
        "            + color_consistency_loss_value\n",
        "            + exposure_loss_value\n",
        "        )\n",
        "\n",
        "        return {\n",
        "            \"total_loss\": total_loss,\n",
        "            \"illumination_loss\": illumination_smoothness_loss_value,\n",
        "            \"spatial_loss\": spatial_consistency_loss_value,\n",
        "            \"color_loss\": color_consistency_loss_value,\n",
        "            \"exposure_loss\": exposure_loss_value,\n",
        "        }\n",
        "\n",
        "    def train_step(self, batch_data):\n",
        "        with tf.GradientTape() as tape:\n",
        "            enhancement_outputs = self.enhancement_network(batch_data)\n",
        "            loss_values = self.compute_loss_components(batch_data, enhancement_outputs)\n",
        "\n",
        "        gradients = tape.gradient(loss_values[\"total_loss\"], self.enhancement_network.trainable_variables)\n",
        "        self.optimizer.apply_gradients(zip(gradients, self.enhancement_network.trainable_variables))\n",
        "\n",
        "        return loss_values\n",
        "\n",
        "    def test_step(self, batch_data):\n",
        "        enhancement_outputs = self.enhancement_network(batch_data)\n",
        "        return self.compute_loss_components(batch_data, enhancement_outputs)\n",
        "\n",
        "    def save_weights(self, filepath, overwrite=True, save_format=None, options=None):\n",
        "        \"\"\"Save weights for the enhancement network.\"\"\"\n",
        "        self.enhancement_network.save_weights(\n",
        "            filepath, overwrite=overwrite, save_format=save_format, options=options\n",
        "        )\n",
        "\n",
        "    def load_weights(self, filepath, by_name=False, skip_mismatch=False, options=None):\n",
        "        \"\"\"Load weights into the enhancement network.\"\"\"\n",
        "        self.enhancement_network.load_weights(\n",
        "            filepath=filepath, by_name=by_name, skip_mismatch=skip_mismatch, options=options\n",
        "        )\n"
      ],
      "metadata": {
        "id": "5inOSE-8f_9D"
      },
      "execution_count": null,
      "outputs": []
    },
    {
      "cell_type": "code",
      "source": [
        "model4 = CustomDCE()\n",
        "model.compile(learning_rate=1e-2, metrics=['accuracy'])\n",
        "training_history = model4.fit(training_data, validation_data=validation_data, epochs=20)"
      ],
      "metadata": {
        "id": "DvSGS6LKe4XT"
      },
      "execution_count": null,
      "outputs": []
    },
    {
      "cell_type": "code",
      "source": [
        "PSNR4 = 0\n",
        "for i in range(len(X_test)):\n",
        "    pred = model4.predict(X[i].reshape(1,256,256,3))\n",
        "    m = np.mean((y[i]-pred)**2)\n",
        "    PSNR3 += 5*np.log10(255/m)\n",
        "\n",
        "PSNR4 = PSNR4 / len(X_test)\n",
        "print(f\"PSNR of DCENet model: {PSNR4}\")"
      ],
      "metadata": {
        "id": "MKCDwnnzmA8m"
      },
      "execution_count": null,
      "outputs": []
    },
    {
      "cell_type": "code",
      "source": [
        "# Saving the weights\n",
        "model4.save_weights('/content/drive/MyDrive/Colab Notebooks/ImageDenoisWeights/model4.h5')"
      ],
      "metadata": {
        "id": "iMHsVZp0mOWi"
      },
      "execution_count": null,
      "outputs": []
    }
  ],
  "metadata": {
    "colab": {
      "provenance": [],
      "gpuType": "T4"
    },
    "kernelspec": {
      "display_name": "Python 3",
      "name": "python3"
    },
    "language_info": {
      "name": "python"
    },
    "accelerator": "GPU"
  },
  "nbformat": 4,
  "nbformat_minor": 0
}